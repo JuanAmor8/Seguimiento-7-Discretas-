{
 "cells": [
  {
   "cell_type": "code",
   "execution_count": null,
   "metadata": {},
   "outputs": [],
   "source": [
    "# Librerías necesarias \n",
    "import pandas as pd\n",
    "import nltk\n",
    "from nltk.corpus import stopwords\n",
    "from nltk.tokenize import word_tokenize\n",
    "from nltk.stem import WordNetLemmatizer\n",
    "\n",
    "import nltk\n",
    "\n",
    "nltk.download('all')"
   ]
  },
  {
   "cell_type": "code",
   "execution_count": null,
   "metadata": {},
   "outputs": [],
   "source": [
    "# Importar el dataset\n",
    "df = pd.read_csv('amazon.csv')\n",
    "df"
   ]
  },
  {
   "cell_type": "code",
   "execution_count": null,
   "metadata": {},
   "outputs": [],
   "source": [
    "# Cree una función para preprocesar el texto\n",
    "def preprocess_text(text):\n",
    "\n",
    "    # Tokenice el texto utilizando la función word_tokenize()\n",
    "    # Pase el texto a minúscula\n",
    "\n",
    "    # Elimine las stopwords utilizando stopwords.words('english')\n",
    "\n",
    "    # Lematice los tokens utilizando WordNetLemmatizer()\n",
    "\n",
    "    # Una los tokens de los procesos previos en una sola cadena\n",
    "\n",
    "    # Retorne el texto procesado\n",
    "\n",
    "# Aplique su función a la columna reviewText del dataframe\n",
    "\n",
    "df"
   ]
  },
  {
   "cell_type": "code",
   "execution_count": null,
   "metadata": {},
   "outputs": [],
   "source": [
    "from sklearn.model_selection import train_test_split\n",
    "from sklearn.preprocessing import LabelEncoder\n",
    "\n",
    "# Obtenga su X y su y\n",
    "X = ?\n",
    "y = ?\n",
    "\n",
    "# Codifique su y\n",
    "\n",
    "# Particione el conjunto en entrenamiento, validación y prueba con train_test_split"
   ]
  },
  {
   "cell_type": "code",
   "execution_count": null,
   "metadata": {},
   "outputs": [],
   "source": [
    "from keras.preprocessing.text import Tokenizer\n",
    "from keras.utils import pad_sequences\n",
    "\n",
    "# Hágale padding a sus secuencias y obtenga aquellas para entrenamiento y aquellas para prueba\n",
    "\n",
    "max_words = ?\n",
    "max_len = ?\n",
    "tok = Tokenizer(num_words=?)\n",
    "tok.fit_on_texts(?)\n",
    "sequences_train = tok.texts_to_sequences(?)\n",
    "sequences_val = tok.texts_to_sequences(?)\n",
    "sequences_test = tok.texts_to_sequences(?)\n",
    "sequences_matrix_train = pad_sequences(?,maxlen=?)\n",
    "sequences_matrix_val = pad_sequences(?,maxlen=?)\n",
    "sequences_matrix_test = pad_sequences(?,maxlen=?)\n"
   ]
  },
  {
   "cell_type": "code",
   "execution_count": null,
   "metadata": {},
   "outputs": [],
   "source": [
    "\n",
    "from keras.models import Model\n",
    "from keras.layers import LSTM, Activation, Dense, Dropout, Input, Embedding, SimpleRNN\n",
    "\n",
    "# Defina su modelo\n",
    "\n",
    "def RNN():\n",
    "    inputs = Input(name='inputs',shape=[max_len])\n",
    "    layer = Embedding(max_words,50,input_length=max_len)(inputs)\n",
    "    # Incluya sus capas SimpleRNN s o LSTM, Dropout, etc\n",
    "    layer = Dense(1,name='out_layer')(layer)\n",
    "    layer = Activation('sigmoid')(layer)\n",
    "    model = Model(inputs=inputs,outputs=layer)\n",
    "    return model"
   ]
  },
  {
   "cell_type": "code",
   "execution_count": null,
   "metadata": {},
   "outputs": [],
   "source": [
    "# Instancie su modelo\n",
    "\n",
    "model = RNN()\n",
    "model.summary()\n",
    "model.compile(loss='binary_crossentropy',optimizer=?,metrics=[?])"
   ]
  },
  {
   "cell_type": "code",
   "execution_count": null,
   "metadata": {},
   "outputs": [],
   "source": [
    "# Entrene su modelo\n",
    "\n",
    "history = model.fit(?,?,validation_data = (?,?),epochs = ?,batch_size=?,verbose = ?)"
   ]
  },
  {
   "cell_type": "code",
   "execution_count": null,
   "metadata": {},
   "outputs": [],
   "source": [
    "# Evalúe su modelo\n",
    "\n",
    "accr = model.evaluate(?,?)"
   ]
  },
  {
   "cell_type": "code",
   "execution_count": null,
   "metadata": {},
   "outputs": [],
   "source": [
    "print('Test set\\n  Loss: {:0.3f}\\n  Accuracy: {:0.3f}'.format(accr[0],accr[1]))"
   ]
  },
  {
   "cell_type": "code",
   "execution_count": null,
   "metadata": {},
   "outputs": [],
   "source": [
    "# Grafique sus resultados\n",
    "\n",
    "import matplotlib.pyplot as plt\n",
    "\n",
    "plt.figure()\n",
    "plt.plot(history.history[?],label=\"Train\");\n",
    "plt.plot(history.history[?],label=\"Validation\");\n",
    "plt.title(\"Accuracy\")\n",
    "plt.ylabel(\"Accuracy\")\n",
    "plt.xlabel(\"Epochs\")\n",
    "plt.legend()\n",
    "plt.show();"
   ]
  },
  {
   "cell_type": "code",
   "execution_count": null,
   "metadata": {},
   "outputs": [],
   "source": []
  }
 ],
 "metadata": {
  "kernelspec": {
   "display_name": "base",
   "language": "python",
   "name": "python3"
  },
  "language_info": {
   "codemirror_mode": {
    "name": "ipython",
    "version": 3
   },
   "file_extension": ".py",
   "mimetype": "text/x-python",
   "name": "python",
   "nbconvert_exporter": "python",
   "pygments_lexer": "ipython3",
   "version": "3.9.7"
  },
  "orig_nbformat": 4
 },
 "nbformat": 4,
 "nbformat_minor": 2
}
